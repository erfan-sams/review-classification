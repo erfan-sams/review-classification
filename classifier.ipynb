{
 "cells": [
  {
   "cell_type": "code",
   "execution_count": 1,
   "metadata": {},
   "outputs": [],
   "source": [
    "import pandas as pd\n",
    "import re\n",
    "\n",
    "from sklearn.naive_bayes import MultinomialNB\n",
    "from sklearn.feature_selection import chi2, SelectKBest\n",
    "from sklearn.feature_extraction.text import CountVectorizer\n",
    "from nltk.stem.snowball import SnowballStemmer\n",
    "from nltk.tokenize import word_tokenize\n",
    "from nltk.corpus import stopwords\n",
    "from sklearn.metrics import classification_report, confusion_matrix\n",
    "from sklearn.model_selection import train_test_split\n"
   ]
  },
  {
   "cell_type": "code",
   "execution_count": 2,
   "metadata": {},
   "outputs": [],
   "source": [
    "\n",
    "data = pd.read_csv('phone_user_review_file_1.csv',sep=\",\", encoding='Latin-1')\n",
    "\n",
    "custom_words = ['verizons', 'edge', 'phone', 'google', 'style', 'androids', 'wi-fi', 'software','calls','verizon',\n",
    " 'camera', 'call', 'music', 'speaker', 'battery', 'browser', 'screen', 'charges','charger','android','life','batteryes',\n",
    " 'portrait', 'cameras', 'lock', 'microphone', 'microphones', 'sensitivity', 'samsung', 'product', 'products', 'samsungs']\n",
    "\n",
    "stop_words = stopwords.words('english')\n",
    "stop_words.remove('not')\n",
    "stop_words.remove('but')\n",
    "\n",
    "stop_words.extend(custom_words)\n",
    "\n",
    "stemmer = SnowballStemmer(language='english')\n"
   ]
  },
  {
   "cell_type": "code",
   "execution_count": 3,
   "metadata": {},
   "outputs": [],
   "source": [
    "\"\"\"captuare english language data\"\"\"\n",
    "en_data = data[data['lang'] == 'en']\n",
    "\n",
    "\"\"\"first we remove NaN data from data set\"\"\"\n",
    "# rounding data for example 9.2 > 9 \n",
    "en_data = en_data.dropna().round()\n",
    "\n",
    "\n",
    "#sample data from dataset\n",
    "s_data = en_data[en_data['score'] == 1].copy()\n",
    "for i in range(2,11):\n",
    "    tmp = en_data[en_data['score'] == i].reset_index(drop=True)[:40200]\n",
    "    s_data = s_data.append(tmp, ignore_index=True)\n",
    "\n",
    "    \n",
    "del en_data\n",
    "\n",
    "data = s_data\n",
    "\n",
    "\n",
    "y = data['score']\n",
    "# data = en_data\n",
    "# y = en_data['score'].tolist()"
   ]
  },
  {
   "cell_type": "code",
   "execution_count": 5,
   "metadata": {},
   "outputs": [],
   "source": [
    "def new_finder(char):\n",
    "    \n",
    "    num = ord(char)\n",
    "    \n",
    "    if (num >= 65) and (num <= 90):\n",
    "        return chr(num+32)\n",
    "    if (num >= 97) and (num <= 122):\n",
    "        return char\n",
    "    if (num == 32) or (num == 39):\n",
    "        return char\n",
    "    return ''"
   ]
  },
  {
   "cell_type": "code",
   "execution_count": 6,
   "metadata": {},
   "outputs": [],
   "source": [
    "def normalizer(text):\n",
    "    \"\"\"\n",
    "        we want remove other letter from text and just keep english letter\n",
    "        and lower case.\n",
    "    \"\"\"\n",
    "    map_list = map(new_finder, text)\n",
    "    sentence = ''.join(map_list)\n",
    "    \n",
    "    # tokenizing text and create list of the words\n",
    "    word_tokens = word_tokenize(sentence)\n",
    "    # stemming every words and and choose word if not in stopwords list\n",
    "    # and delete words that have lesss than 2 letter \n",
    "    filtered_sentence = [stemmer.stem(w) for w in word_tokens if not w in stop_words and ((len(w) > 2)and (len(w)<13))]\n",
    "    \n",
    "    return filtered_sentence\n",
    "\n"
   ]
  },
  {
   "cell_type": "code",
   "execution_count": 7,
   "metadata": {},
   "outputs": [],
   "source": [
    "def feature(data):\n",
    "    try:\n",
    "        feature_list = data['extract'].tolist()\n",
    "    except:\n",
    "        feature_list = [data]\n",
    "#     feature_list = list(map(normalizer,data_text))\n",
    "    return feature_list"
   ]
  },
  {
   "cell_type": "code",
   "execution_count": 8,
   "metadata": {},
   "outputs": [],
   "source": [
    "def vectorize(feature_list):\n",
    "    X_dtm = vect.fit_transform(feature_list)\n",
    "    X_dtm = X_dtm.toarray()\n",
    "    return X_dtm"
   ]
  },
  {
   "cell_type": "code",
   "execution_count": 9,
   "metadata": {},
   "outputs": [],
   "source": [
    "def feature_selection(k, X_dtm, y):\n",
    "    global chi2_features\n",
    "    chi2_features = SelectKBest(chi2, k=k)\n",
    "    X_kbest_features = chi2_features.fit_transform(X_dtm, y)\n",
    "    return X_kbest_features\n"
   ]
  },
  {
   "cell_type": "code",
   "execution_count": 10,
   "metadata": {},
   "outputs": [],
   "source": [
    "def proc(data):\n",
    "    tokens = feature(data)\n",
    "    transform_data = vect.transform(tokens).toarray()\n",
    "    selection_feature = chi2_features.transform(transform_data)\n",
    "    return selection_feature\n"
   ]
  },
  {
   "cell_type": "code",
   "execution_count": 11,
   "metadata": {},
   "outputs": [],
   "source": [
    "vect = CountVectorizer(tokenizer=normalizer, max_features=18000)"
   ]
  },
  {
   "cell_type": "code",
   "execution_count": 14,
   "metadata": {},
   "outputs": [],
   "source": [
    "train_data , test_data , y_train, y_test = train_test_split(data, y, test_size=0.10, random_state=2)"
   ]
  },
  {
   "cell_type": "code",
   "execution_count": null,
   "metadata": {
    "scrolled": true
   },
   "outputs": [],
   "source": [
    "X_dtm = vectorize(feature(train_data))"
   ]
  },
  {
   "cell_type": "code",
   "execution_count": 16,
   "metadata": {},
   "outputs": [],
   "source": [
    "# X_train = feature_selection(4000, X_dtm, y_train)\n",
    "X_test = proc(test_data)"
   ]
  },
  {
   "cell_type": "code",
   "execution_count": 15,
   "metadata": {},
   "outputs": [
    {
     "data": {
      "text/plain": [
       "(97600, 18000)"
      ]
     },
     "execution_count": 15,
     "metadata": {},
     "output_type": "execute_result"
    }
   ],
   "source": [
    "X_dtm.shape"
   ]
  },
  {
   "cell_type": "code",
   "execution_count": 159,
   "metadata": {},
   "outputs": [
    {
     "data": {
      "text/plain": [
       "(22602, 11812)"
      ]
     },
     "execution_count": 159,
     "metadata": {},
     "output_type": "execute_result"
    }
   ],
   "source": [
    "X_dtm.shape"
   ]
  },
  {
   "cell_type": "code",
   "execution_count": 35,
   "metadata": {},
   "outputs": [
    {
     "name": "stdout",
     "output_type": "stream",
     "text": [
      "              precision    recall  f1-score   support\n",
      "\n",
      "         1.0       0.00      0.00      0.00         5\n",
      "         2.0       0.56      0.75      0.64      1725\n",
      "         3.0       0.00      0.00      0.00        11\n",
      "         4.0       0.21      0.07      0.10       656\n",
      "         5.0       0.00      0.00      0.00        25\n",
      "         6.0       0.29      0.16      0.20      1043\n",
      "         7.0       0.08      0.01      0.02        81\n",
      "         8.0       0.51      0.53      0.52      2841\n",
      "         9.0       0.22      0.13      0.16       557\n",
      "        10.0       0.68      0.77      0.72      3901\n",
      "\n",
      "    accuracy                           0.56     10845\n",
      "   macro avg       0.25      0.24      0.24     10845\n",
      "weighted avg       0.52      0.56      0.53     10845\n",
      "\n"
     ]
    }
   ],
   "source": [
    "# clf = MultinomialNB(alpha=1)\n",
    "# clf.fit(X_train,y_train,)\n",
    "predict_val_nb = clf.predict(X_test)\n",
    "print(classification_report(y_test, predict_val_nb))"
   ]
  },
  {
   "cell_type": "code",
   "execution_count": 11,
   "metadata": {},
   "outputs": [],
   "source": [
    "from joblib import dump, load\n",
    "import matplotlib.pyplot as plt\n",
    "from collections import Counter"
   ]
  },
  {
   "cell_type": "code",
   "execution_count": 12,
   "metadata": {},
   "outputs": [],
   "source": [
    "clf = load('last_clf.joblib')\n",
    "chi2_features = load('last_kbes.joblib')\n",
    "vect = load('last_vectorizer.joblib')"
   ]
  },
  {
   "cell_type": "code",
   "execution_count": 23,
   "metadata": {},
   "outputs": [],
   "source": [
    "data = pd.read_csv('phone_user_review_file_2.csv',sep=\",\", encoding='Latin-1')\n",
    "en_data = data[data['lang'] == 'en']\n",
    "\n",
    "\"\"\"first we remove NaN data from data set\"\"\"\n",
    "# rounding data for example 9.2 > 9 \n",
    "en_data = en_data.dropna().round()\n",
    "\n"
   ]
  },
  {
   "cell_type": "code",
   "execution_count": 24,
   "metadata": {},
   "outputs": [
    {
     "data": {
      "text/plain": [
       "array(['/cellphones/leagoo-lead-7/', '/cellphones/thl-2015a/',\n",
       "       '/cellphones/zopo-color-c-zp330/', '/cellphones/oppo-find-7/',\n",
       "       '/cellphones/doogee-x5-pro/', '/cellphones/nokia-lumia-630/',\n",
       "       '/cellphones/htc-one-x9/', '/cellphones/xiaomi-redmi-note/',\n",
       "       '/cellphones/sony-xperia-z3/', '/cellphones/oukitel-u7-pro/',\n",
       "       '/cellphones/xiaomi-mi-5s-plus/', '/cellphones/blu-studio-m-hd/',\n",
       "       '/cellphones/xiaomi-mi4/', '/cellphones/motorola-moto-e-2-lte/',\n",
       "       '/cellphones/zte-nubia-z9-max/', '/cellphones/blu-dash-x2/',\n",
       "       '/cellphones/leagoo-elite-4/',\n",
       "       '/cellphones/xiaomi-redmi-note-2-prime/',\n",
       "       '/cellphones/meizu-m1-note/', '/cellphones/samsung-galaxy-j1/',\n",
       "       '/cellphones/lg-magna-y90/', '/cellphones/microsoft-lumia-435/',\n",
       "       '/cellphones/huawei-ascend-y5-y560/', '/cellphones/meitu-m4/',\n",
       "       '/cellphones/cubot-s600/', '/cellphones/xiaomi-mi-3/',\n",
       "       '/cellphones/google-pixel/', '/cellphones/oppo-r7s/',\n",
       "       '/cellphones/gionee-m5/', '/cellphones/lg-l-fino/',\n",
       "       '/cellphones/samsung-galaxy-c9-pro/', '/cellphones/vivo-v5-plus/',\n",
       "       '/cellphones/kyocera-duraforce-for-at-t/',\n",
       "       '/cellphones/doogee-nova-y100x/',\n",
       "       '/cellphones/samsung-galaxy-on5/',\n",
       "       '/cellphones/doogee-x5-max-pro/',\n",
       "       '/cellphones/asus-zenfone-2-zoom/', '/cellphones/elephone-p3000s/',\n",
       "       '/cellphones/samsung-galaxy-j1-mini/',\n",
       "       '/cellphones/lenovo-vibe-s1/', '/cellphones/motorola-moto-e/',\n",
       "       '/cellphones/huawei-ascend-p7/', '/cellphones/blu-janet/',\n",
       "       '/cellphones/oukitel-c3/', '/cellphones/leagoo-lead-2/',\n",
       "       '/cellphones/meizu-m3s/', '/cellphones/huawei-y360/',\n",
       "       '/cellphones/lg-g3-d855-657484/',\n",
       "       '/cellphones/vodafone-smart-speed-6/', '/cellphones/htc-one-me/',\n",
       "       '/cellphones/tp-link-neffos-c5l/', '/cellphones/acer-liquid-z530/',\n",
       "       '/cellphones/doogee-x5/', '/cellphones/lg-l90-d410/',\n",
       "       '/cellphones/sony-xperia-z3-compact/',\n",
       "       '/cellphones/bq-aquaris-e4-5/', '/cellphones/oppo-neo-7/',\n",
       "       '/cellphones/htc-one-e8/', '/cellphones/lenovo-vibe-k5-plus/',\n",
       "       '/cellphones/samsung-galaxy-note-3-neo-4g-n7505/',\n",
       "       '/cellphones/cubot-s200/', '/cellphones/inew-v3-plus/',\n",
       "       '/cellphones/blu-studio-energy/', '/cellphones/doogee-y6-max/',\n",
       "       '/cellphones/cubot-p11/', '/cellphones/huawei-ascend-g750/',\n",
       "       '/cellphones/huawei-honor-x2/', '/cellphones/doogee-t6-pro/',\n",
       "       '/cellphones/lg-b470/',\n",
       "       '/cellphones/micromax-canvas-selfie-lens-q345/',\n",
       "       '/cellphones/lenovo-vibe-k4-note/',\n",
       "       '/cellphones/panasonic-eluga-mark/',\n",
       "       '/cellphones/blu-dash-x-plus/', '/cellphones/lenovo-a2010/',\n",
       "       '/cellphones/nokia-215-dual-sim/', '/cellphones/htc-desire-630/',\n",
       "       '/cellphones/samsung-galaxy-grand-neo-plus-gt-i9060i/',\n",
       "       '/cellphones/lg-g2-594708/',\n",
       "       '/cellphones/asus-zenfone-3-max-zc553kl-4h025/',\n",
       "       '/cellphones/blackview-bv6000/', '/cellphones/htc-desire-526g/',\n",
       "       '/cellphones/lg-google-nexus-5/', '/cellphones/xiaomi-redmi-2/',\n",
       "       '/cellphones/samsung-galaxy-s-iii-neo-i9300i/',\n",
       "       '/cellphones/doogee-turbo-mini-f1/', '/cellphones/sony-xperia-z2/',\n",
       "       '/cellphones/blu-win-jr/', '/cellphones/zopo-zp780/',\n",
       "       '/cellphones/htc-m8/', '/cellphones/lg-d686-g-pro-lite-dual/',\n",
       "       '/cellphones/blu-jenny-ii/', '/cellphones/huawei-ascend-g700/',\n",
       "       '/cellphones/lenovo-a7000/', '/cellphones/microsoft-lumia-650/',\n",
       "       '/cellphones/samsung-galaxy-k-zoom/',\n",
       "       '/cellphones/samsung-galaxy-s5-mini/',\n",
       "       '/cellphones/huawei-honor-4-play/',\n",
       "       '/cellphones/samsung-galaxy-a8-a800fd/',\n",
       "       '/cellphones/blu-neo-4-5/',\n",
       "       '/cellphones/micromax-canvas-unite-3-q372/',\n",
       "       '/cellphones/blu-studio-x-plus/', '/cellphones/leagoo-lead-1/',\n",
       "       '/cellphones/samsung-galaxy-xcover-3-ve/',\n",
       "       '/cellphones/blu-sport-4-5/', '/cellphones/zte-blade-s6/',\n",
       "       '/cellphones/blu-studio-g/', '/cellphones/samsung-galaxy-on7-pro/',\n",
       "       '/cellphones/google-nexus-6/', '/cellphones/oppo-r7/',\n",
       "       '/cellphones/lg-g3-stylus-d690/', '/cellphones/acer-liquid-z520/',\n",
       "       '/cellphones/motorola-moto-e3-power/',\n",
       "       '/cellphones/alcatel-one-touch-idol-x-plus/',\n",
       "       '/cellphones/asus-zenfone-5/', '/cellphones/micromax-q380/',\n",
       "       '/cellphones/htc-butterfly-s/',\n",
       "       '/cellphones/samsung-galaxy-a7-2017/', '/cellphones/doogee-f5/',\n",
       "       '/cellphones/blu-studio-one-4g-lte/',\n",
       "       '/cellphones/htc-desire-620/', '/cellphones/blu-neo-x-plus/',\n",
       "       '/cellphones/lenovo-phab-2/',\n",
       "       '/cellphones/sony-xperia-z1-compact-d5503/',\n",
       "       '/cellphones/blu-life-pure-mini/', '/cellphones/nokia-lumia-929/',\n",
       "       '/cellphones/elephone-p9000/', '/cellphones/oukitel-k4000/',\n",
       "       '/cellphones/sony-xperia-xa/', '/cellphones/lg-l70/',\n",
       "       '/cellphones/blu-zoey-2-4/', '/cellphones/leagoo-lead-5/',\n",
       "       '/cellphones/microsoft-lumia-550/',\n",
       "       '/cellphones/sony-xperia-z3plus/', '/cellphones/intex-aqua-ace/',\n",
       "       '/cellphones/samsung-galaxy-avant/', '/cellphones/cubot-x10/',\n",
       "       '/cellphones/htc-desire-820g-plus/', '/cellphones/leagoo-lead-3/',\n",
       "       '/cellphones/blackberry-z30/', '/cellphones/zte-nubia-z9-mini/',\n",
       "       '/cellphones/samsung-galaxy-j1-mini-prime-sm-j106/',\n",
       "       '/cellphones/elephone-p6000/', '/cellphones/samsung-galaxy-c5/',\n",
       "       '/cellphones/xiaomi-redmi-4a/', '/cellphones/lg-k7-x210/',\n",
       "       '/cellphones/lg-leon-h324/', '/cellphones/xiaomi-mi-4i/',\n",
       "       '/cellphones/infocus-m810/', '/cellphones/lenovo-ideaphone-k80m/',\n",
       "       '/cellphones/cubot-x9/', '/cellphones/acer-liquid-m330/',\n",
       "       '/cellphones/zte-zmax/', '/cellphones/motorola-moto-g-4-plus/'],\n",
       "      dtype=object)"
      ]
     },
     "execution_count": 24,
     "metadata": {},
     "output_type": "execute_result"
    }
   ],
   "source": [
    "en_data.phone_url.unique()"
   ]
  },
  {
   "cell_type": "code",
   "execution_count": 25,
   "metadata": {},
   "outputs": [],
   "source": [
    "mobile_data = en_data[en_data[\"phone_url\"].str.contains('blackberry-z30',case=False)].reset_index(drop=True)"
   ]
  },
  {
   "cell_type": "code",
   "execution_count": 26,
   "metadata": {},
   "outputs": [],
   "source": [
    "X = proc(mobile_data)\n",
    "y = mobile_data['score']"
   ]
  },
  {
   "cell_type": "code",
   "execution_count": 27,
   "metadata": {},
   "outputs": [
    {
     "name": "stdout",
     "output_type": "stream",
     "text": [
      "              precision    recall  f1-score   support\n",
      "\n",
      "         1.0       0.00      0.00      0.00         1\n",
      "         2.0       0.45      0.83      0.58        53\n",
      "         4.0       0.16      0.10      0.12        31\n",
      "         6.0       0.11      0.14      0.12        22\n",
      "         8.0       0.20      0.50      0.29        96\n",
      "         9.0       0.00      0.00      0.00         6\n",
      "        10.0       0.90      0.56      0.69       516\n",
      "\n",
      "    accuracy                           0.54       725\n",
      "   macro avg       0.26      0.30      0.26       725\n",
      "weighted avg       0.71      0.54      0.58       725\n",
      "\n"
     ]
    },
    {
     "name": "stderr",
     "output_type": "stream",
     "text": [
      "C:\\ProgramData\\Anaconda3\\lib\\site-packages\\sklearn\\metrics\\_classification.py:1221: UndefinedMetricWarning: Precision and F-score are ill-defined and being set to 0.0 in labels with no predicted samples. Use `zero_division` parameter to control this behavior.\n",
      "  _warn_prf(average, modifier, msg_start, len(result))\n"
     ]
    }
   ],
   "source": [
    "predict_val = clf.predict(X)\n",
    "print(classification_report(y, predict_val))"
   ]
  },
  {
   "cell_type": "code",
   "execution_count": 28,
   "metadata": {},
   "outputs": [],
   "source": [
    "p_opinions = list()\n",
    "for score in predict_val:\n",
    "    if (score <= 3):\n",
    "        p_opinions.append('bad')\n",
    "    elif (score <= 7):\n",
    "        p_opinions.append('acceptably')\n",
    "    else:\n",
    "        p_opinions.append('good')\n",
    "    \n"
   ]
  },
  {
   "cell_type": "code",
   "execution_count": 29,
   "metadata": {},
   "outputs": [],
   "source": [
    "predict_size = Counter(p_opinions)\n",
    "\n",
    "good = predict_size['good']\n",
    "bad = predict_size['bad']\n",
    "acceptably = predict_size['acceptably']"
   ]
  },
  {
   "cell_type": "code",
   "execution_count": 30,
   "metadata": {},
   "outputs": [
    {
     "data": {
      "image/png": "[encoded data removed]",
      "text/plain": [
       "<Figure size 432x288 with 1 Axes>"
      ]
     },
     "metadata": {},
     "output_type": "display_data"
    }
   ],
   "source": [
    "\n",
    "\n",
    "# Pie chart, where the slices will be ordered and plotted counter-clockwise:\n",
    "labels = 'good', 'acceptably', 'bad'\n",
    "sizes = [good, acceptably, bad]\n",
    "explode = (0.2, 0.1, 0.1)  # only \"explode\" the 2nd slice (i.e. 'Hogs')\n",
    "\n",
    "fig1, ax1 = plt.subplots()\n",
    "ax1.pie(sizes, explode=explode, labels=labels, autopct='%1.1f%%',\n",
    "        shadow=True, startangle=90)\n",
    "ax1.axis('equal')  # Equal aspect ratio ensures that pie is drawn as a circle.\n",
    "\n",
    "ax1.set_title('predict')\n",
    "\n",
    "plt.show()"
   ]
  },
  {
   "cell_type": "code",
   "execution_count": 31,
   "metadata": {},
   "outputs": [],
   "source": [
    "opinions = list()\n",
    "for score in y:\n",
    "    if (score <= 3):\n",
    "        opinions.append('bad')\n",
    "    elif (score <= 7):\n",
    "        opinions.append('acceptably')\n",
    "    else:\n",
    "        opinions.append('good')\n",
    "        \n",
    "\n",
    "real_size = Counter(opinions)\n",
    "\n",
    "good = real_size['good']\n",
    "bad = real_size['bad']\n",
    "acceptably = real_size['acceptably']\n"
   ]
  },
  {
   "cell_type": "code",
   "execution_count": 32,
   "metadata": {},
   "outputs": [
    {
     "data": {
      "image/png": "[encoded data removed]",
      "text/plain": [
       "<Figure size 432x288 with 1 Axes>"
      ]
     },
     "metadata": {},
     "output_type": "display_data"
    }
   ],
   "source": [
    "labels = 'good', 'acceptably', 'bad'\n",
    "sizes = [good, acceptably, bad]\n",
    "explode = (0.2, 0.1, 0.1)  # only \"explode\" the 2nd slice (i.e. 'Hogs')\n",
    "\n",
    "fig1, ax1 = plt.subplots()\n",
    "ax1.pie(sizes, explode=explode, labels=labels, autopct='%1.1f%%',\n",
    "        shadow=True, startangle=90)\n",
    "ax1.axis('equal')  # Equal aspect ratio ensures that pie is drawn as a circle.\n",
    "\n",
    "ax1.set_title('real')\n",
    "\n",
    "\n",
    "plt.show()"
   ]
  },
  {
   "cell_type": "code",
   "execution_count": 36,
   "metadata": {},
   "outputs": [
    {
     "name": "stdout",
     "output_type": "stream",
     "text": [
      "              precision    recall  f1-score   support\n",
      "\n",
      "  acceptably       0.26      0.23      0.24        53\n",
      "         bad       0.45      0.81      0.58        54\n",
      "        good       0.95      0.89      0.92       618\n",
      "\n",
      "    accuracy                           0.84       725\n",
      "   macro avg       0.55      0.65      0.58       725\n",
      "weighted avg       0.86      0.84      0.85       725\n",
      "\n"
     ]
    }
   ],
   "source": [
    "predict_val = clf.predict(X)\n",
    "print(classification_report(opinions, p_opinions))"
   ]
  },
  {
   "cell_type": "code",
   "execution_count": null,
   "metadata": {},
   "outputs": [],
   "source": []
  }
 ],
 "metadata": {
  "kernelspec": {
   "display_name": "Python 3",
   "language": "python",
   "name": "python3"
  },
  "language_info": {
   "codemirror_mode": {
    "name": "ipython",
    "version": 3
   },
   "file_extension": ".py",
   "mimetype": "text/x-python",
   "name": "python",
   "nbconvert_exporter": "python",
   "pygments_lexer": "ipython3",
   "version": "3.8.5"
  }
 },
 "nbformat": 4,
 "nbformat_minor": 4
}
